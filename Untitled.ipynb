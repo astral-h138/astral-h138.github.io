{
 "cells": [
  {
   "cell_type": "code",
   "execution_count": null,
   "id": "2f72510b",
   "metadata": {},
   "outputs": [],
   "source": []
  },
  {
   "cell_type": "code",
   "execution_count": 1,
   "id": "0faf7780",
   "metadata": {},
   "outputs": [],
   "source": [
    "markov = ['以正治國之賊以知治國之賊以知天下母得其死將以為利之以為天下聽公之謂也',\n",
    "'道滿天下谷天下神器可以託天下窮於四極',\n",
    "'大國若烹小鮮道莅天下矣以聖人其神不傷人兩者同於德者亦樂得之貨令人行而天下何以知天道出彌遠知彌少以聖人之師善人之道其猶張弓與者抑之者是樂殺人者智知者明人者智知者明人者不祥謂天下聽公之謂也',\n",
    "'大國故或下以取強而勿驕而不處',\n",
    "'其安易持未兆嬰兒之未孩儽兮若冬涉川兮若無所歸人皆孩之',\n",
    "'下有始為天下谷天下谷德乃豐之天下母得其死將以為氣淵淵之利器而國家滋昏多知巧而奇物滋章賊多有故聖人腹不為盜見可欲民心不亂以聖人甚奢泰',\n",
    "'之得一以生不辭成遂而不可開結無纆約而不移能守之物將自定',\n",
    "'所以失之從事於道者何曰求得罪以免邪故能大肖矣其細下難事必作於易下大國取於大明',\n",
    "'春秋冬夏天之時也山陵川谷地之始以大丈夫其厚不居其華故去彼取此',\n",
    "'寂乎莫聞其聲而序其成謂之智',\n",
    "'得一以為天下普在民所民不爭故天下聽',\n",
    "'所以能為百谷王者其善下之至堅有入無間是以無德德無不為天下谿德不德是以能長且久者其不得其母知其名之樸名之樸亦將知止止所以貴高恐蹶故貴以賤為本邪乎故從事常於幾成而不成',\n",
    "'虛極靜篤物並作以觀其徼兩者或利或害之所伏知其極以有國國之母以長壽',\n",
    "'有神自在身一往一來一逝其細下難事必作於易下大國若烹小鮮道莅天下正',\n",
    "'不畏威大威至矣狎其所者久而不恃成而弗居以不去',\n",
    "'之得一以為道故建言有之於未亂抱之木生於有生於無物謂無狀之狀物之精者也',\n",
    "'凡物之象謂惚恍之不竭九竅遂通乃能窮天地生兮寥兮立不改行而天下正',\n",
    "'和乃自成其所以修心而放寬氣而廣其形合此以長久',\n",
    "'十輻共一轂其無有器之用埴以為和之所失以敗所得以生恐滅王無以為仁為之名曰大曰逝曰遠曰反道大笑之笑不足以懲過氣意行似天',\n",
    "'中無敗節欲之道萬物為芻狗人不積以為用',\n",
    "'心氣之形自充自盈自生故能廣敢為',\n",
    "'海所以修心而正形攝德天仁地義則淫然而善謀網恢恢而不可呼以聲而序其成謂之鬼神將通之非鬼神之力謂配天古之道',\n",
    "'者不立者不拔抱者不武戰者不知其兌濟其事身不殆以長壽',\n",
    "]"
   ]
  },
  {
   "cell_type": "code",
   "execution_count": 18,
   "id": "23516f8f",
   "metadata": {},
   "outputs": [],
   "source": [
    "m_text = [\n",
    "'The thief who runs the country with integrity knows that the thief who runs the country knows that the mother of the world will benefit from her death, and the world listens to the public.',\n",
    "\"The Tao is full of the world, the valley of the world, and the world's artifact can support the world's poverty and the four poles\",\n",
    "\"If a big country cooks a small fresh way, it will come to the world. The sage's spirit does not hurt people. Both of them are of the same virtue. They will also enjoy the goods. How can the world know that the way of heaven is far away? Those who suppress it are those who are happy to kill those who are wise and who are wise, who are wise and who are wise, who are ominous, the world listens to the public.\",\n",
    "\"For a great country, it is necessary to be strong and not be arrogant and not be inferior.\",\n",
    "\"It is easy to hold the unborn child of the unsigned baby, if the winter is in the river, if there is nowhere to go, everyone is a child\",\n",
    "\"There is the beginning of the world, the valley, the world, the virtue, the mother of the world, and the mother of the world. If she dies, she will be regarded as a sharp weapon of Qi Yuanyuan, and the country will be dizzy and knowledgeable, and strange things will breed chapters. Saints are very extravagant\",\n",
    "\"If you get one, you will live without resignation, and you will not be able to open a knot. What you can't change and keep will be determined by yourself.\",\n",
    "\"Therefore, those who have lost their way in the Tao said that they should seek to offend and avoid evil, so they can be great.\",\n",
    "\"In spring, autumn, winter and summer, it is also the beginning of mountains, mountains, rivers and valleys. Because of their wealth, they do not live in their beauty, so they go to each other to take this.\",\n",
    "\"It is so silent that you cannot hear its voice and sequence its formation, which is called wisdom\",\n",
    "\"One thinks that the world is universal, the people are the people, and the people do not fight, so the world listens\",\n",
    "\"Therefore, those who can be the kings of hundreds of valleys have the most steadfastness in their goodness, and they have no virtues and virtues. They are all virtuous and unvirtuous. Those who can last for a long time will not be able to know the simple name of their mother. Stopping, so noble and high fear of being ruined, so noble and base are evil, so often because of a few percent, but not\",\n",
    "\"Quietly and obsessively with things, to observe the benefits or harms of the two, to know that they have the mother of the country and to live a long life\",\n",
    "\"There are gods who come and go and pass away, and the details and difficult things must be done easily. If a big country cooks a small fresh way, the world will be upright.\",\n",
    "\"Don't be afraid of the mighty and mighty, you will stay where you are for a long time without relying on it, and you won't be able to live there.\",\n",
    "\"The one who obtains One thinks that the Tao, therefore, suggests that there is an essence that is born from the unencumbered wood, and born from the non-object, which is called the shapeless object.\",\n",
    "\"The image of all things is said to be inexhaustible, and the nine orifices are connected, so that the world can be born in a poor world, and the world is upright.\",\n",
    "\"He Nai becomes his own, so he cultivates his mind, relaxes his qi and expands his form, and it will last for a long time.\",\n",
    "\"The ten spokes have a total of one hub. It has no use. He thinks that what he loses in harmony is what he loses, and what he gains is life and fear of extinction. like the sky\",\n",
    "\"There is no defeat in the middle, the way of restraint\",\n",
    "\"The shape of the heart is self-filling\",\n",
    "\"Therefore, the sea cultivates the mind and forms the righteousness of the heavens and the earth.\",\n",
    "\"Those who do not stand, who do not hold up, who do not fight, do not know what to do, who do not know how to save their lives, will live long life\",\n",
    "]"
   ]
  },
  {
   "cell_type": "code",
   "execution_count": 4,
   "id": "b76a2a55",
   "metadata": {},
   "outputs": [],
   "source": [
    "with open('ddj-chr.txt') as ddj_f:\n",
    "    ddj = ddj_f.read()\n",
    "    ddj = ddj.replace('\\n\\n', 'AAAAA').replace('\\n', '').split('AAAAA')\n",
    "\n",
    "with open('int-chr.txt') as inwt_f:\n",
    "    inwt = inwt_f.read()\n",
    "    inwt = inwt.replace('\\n\\n', 'AAAAA').replace('\\n', '').split('AAAAA') \n"
   ]
  },
  {
   "cell_type": "code",
   "execution_count": 7,
   "id": "3c16c1b1",
   "metadata": {},
   "outputs": [
    {
     "data": {
      "text/plain": [
       "5"
      ]
     },
     "execution_count": 7,
     "metadata": {},
     "output_type": "execute_result"
    }
   ],
   "source": [
    "markov[0].count('以')"
   ]
  },
  {
   "cell_type": "code",
   "execution_count": 9,
   "id": "a622b43b",
   "metadata": {},
   "outputs": [],
   "source": [
    "def similarity(a, b):\n",
    "    return sum([b.count(x) for x in a]) / len(b)"
   ]
  },
  {
   "cell_type": "code",
   "execution_count": 11,
   "id": "1f5ccb8b",
   "metadata": {},
   "outputs": [
    {
     "data": {
      "text/plain": [
       "0.5555555555555556"
      ]
     },
     "execution_count": 11,
     "metadata": {},
     "output_type": "execute_result"
    }
   ],
   "source": [
    "similarity(markov[0], ddj[1])"
   ]
  },
  {
   "cell_type": "code",
   "execution_count": 28,
   "id": "4aa85426",
   "metadata": {},
   "outputs": [],
   "source": [
    "M = []\n",
    "for i, passage in enumerate(ddj):\n",
    "    m = max(markov, key=lambda k: similarity(passage, k))\n",
    "    m_i = markov.index(m)\n",
    "    M.append(m_i)"
   ]
  },
  {
   "cell_type": "code",
   "execution_count": 29,
   "id": "01d3dc84",
   "metadata": {},
   "outputs": [],
   "source": [
    "mars = [markov[i] for i in M]\n",
    "texs = [m_text[i] for i in M]"
   ]
  },
  {
   "cell_type": "code",
   "execution_count": 30,
   "id": "6289e796",
   "metadata": {},
   "outputs": [],
   "source": [
    "with open('int-eng.txt') as F:\n",
    "    inwt_text = F.read()\n",
    "    inwt_text = inwt_text.replace('\\n\\n', 'AAAAA').replace('\\n', ' ').split('AAAAA') \n"
   ]
  },
  {
   "cell_type": "code",
   "execution_count": 31,
   "id": "c0189d2f",
   "metadata": {},
   "outputs": [],
   "source": [
    "I = []\n",
    "for i, passage in enumerate(mars):\n",
    "    m = max(inwt, key=lambda k: similarity(passage, k))\n",
    "    m_i = inwt.index(m)\n",
    "    I.append(m_i)\n",
    "    \n",
    "int_chrs = [inwt[i] for i in I]\n",
    "int_texs = [inwt_text[i] for i in I]"
   ]
  },
  {
   "cell_type": "code",
   "execution_count": 37,
   "id": "a9069961",
   "metadata": {},
   "outputs": [
    {
     "data": {
      "text/plain": [
       "'一物能化謂之神一事能變謂之智\\n\\n形不正德不來中不靜心不治\\n\\n形不正德不來中不靜心不治\\n\\n不見其形不聞其聲而序其成謂之道\\n\\n得道之人理丞而屯泄匈中無敗節欲之道萬物不害\\n\\n凡人之生也必以平正所以失之必以喜怒憂患\\n\\n不見其形不聞其聲而序其成謂之道\\n\\n形不正德不來中不靜心不治\\n\\n不見其形不聞其聲而序其成謂之道\\n\\n形不正德不來中不靜心不治\\n\\n凡人之生也必以平正所以失之必以喜怒憂患\\n\\n凡人之生也天出其精地出其形合此以為人\\n\\n一言得而天下服一言定而天下聽公之謂也\\n\\n形不正德不來中不靜心不治\\n\\n形不正德不來中不靜心不治\\n\\n凡人之生也必以平正所以失之必以喜怒憂患\\n\\n一物能化謂之神一事能變謂之智\\n\\n形不正德不來中不靜心不治\\n\\n形不正德不來中不靜心不治\\n\\n能勿求諸人而得之己乎思之思之又重思之思之而不通鬼神將通之非鬼神之力也精氣之極也‟\\n\\n一物能化謂之神一事能變謂之智\\n\\n凡心之形自充自盈自生自成其所以失之必以憂樂喜怒欲利能去憂樂喜怒欲利心乃反濟\\n\\n形不正德不來中不靜心不治\\n\\n形不正德不來中不靜心不治\\n\\n凡人之生也必以平正所以失之必以喜怒憂患\\n\\n凡人之生也必以平正所以失之必以喜怒憂患\\n\\n形不正德不來中不靜心不治\\n\\n一言得而天下服一言定而天下聽公之謂也\\n\\n凡人之生也必以平正所以失之必以喜怒憂患\\n\\n是故聖人與時變而不化從物而不移\\n\\n凡人之生也必以平正所以失之必以喜怒憂患\\n\\n凡人之生也必以平正所以失之必以喜怒憂患\\n\\n形不正德不來中不靜心不治\\n\\n形不正德不來中不靜心不治\\n\\n形不正德不來中不靜心不治\\n\\n一物能化謂之神一事能變謂之智\\n\\n形不正德不來中不靜心不治\\n\\n凡人之生也必以平正所以失之必以喜怒憂患\\n\\n凡人之生也必以平正所以失之必以喜怒憂患\\n\\n一物能化謂之神一事能變謂之智\\n\\n能勿求諸人而得之己乎思之思之又重思之思之而不通鬼神將通之非鬼神之力也精氣之極也‟\\n\\n一物能化謂之神一事能變謂之智\\n\\n凡人之生也必以平正所以失之必以喜怒憂患\\n\\n形不正德不來中不靜心不治\\n\\n道滿天下普在民所民不能知也\\n\\n乃能戴大圜而履大方鑒於大清視於大明\\n\\n凡人之生也必以平正所以失之必以喜怒憂患\\n\\n一言得而天下服一言定而天下聽公之謂也\\n\\n凡人之生也天出其精地出其形合此以為人\\n\\n一物能化謂之神一事能變謂之智\\n\\n一物能化謂之神一事能變謂之智\\n\\n形不正德不來中不靜心不治\\n\\n一物能化謂之神一事能變謂之智\\n\\n凡人之生也必以平正所以失之必以喜怒憂患\\n\\n形不正德不來中不靜心不治\\n\\n形不正德不來中不靜心不治\\n\\n是故聖人與時變而不化從物而不移\\n\\n形不正德不來中不靜心不治\\n\\n凡人之生也必以平正所以失之必以喜怒憂患\\n\\n形不正德不來中不靜心不治\\n\\n是故聖人與時變而不化從物而不移\\n\\n凡人之生也必以平正所以失之必以喜怒憂患\\n\\n乃能戴大圜而履大方鑒於大清視於大明\\n\\n一物能化謂之神一事能變謂之智\\n\\n凡人之生也必以平正所以失之必以喜怒憂患\\n\\n道滿天下普在民所民不能知也\\n\\n道滿天下普在民所民不能知也\\n\\n形不正德不來中不靜心不治\\n\\n一物能化謂之神一事能變謂之智\\n\\n凡人之生也必以平正所以失之必以喜怒憂患\\n\\n形不正德不來中不靜心不治\\n\\n形不正德不來中不靜心不治\\n\\n是故聖人與時變而不化從物而不移\\n\\n形不正德不來中不靜心不治\\n\\n凡人之生也必以平正所以失之必以喜怒憂患\\n\\n一物能化謂之神一事能變謂之智\\n\\n形不正德不來中不靜心不治\\n\\n凡人之生也必以平正所以失之必以喜怒憂患\\n\\n得道之人理丞而屯泄匈中無敗節欲之道萬物不害\\n\\n不見其形不聞其聲而序其成謂之道\\n\\n形不正德不來中不靜心不治'"
      ]
     },
     "execution_count": 37,
     "metadata": {},
     "output_type": "execute_result"
    }
   ],
   "source": [
    "CHARS = \"\\n\\n\".join(int_chrs).replace(',', ', ').replace('?', '? ')\n",
    "\n",
    "CHARS"
   ]
  },
  {
   "cell_type": "code",
   "execution_count": 38,
   "id": "374e2424",
   "metadata": {},
   "outputs": [],
   "source": [
    "with open('int-chr.txt', 'w') as F:\n",
    "    F.write(CHARS)"
   ]
  },
  {
   "cell_type": "code",
   "execution_count": null,
   "id": "463e3ba2",
   "metadata": {},
   "outputs": [],
   "source": []
  }
 ],
 "metadata": {
  "kernelspec": {
   "display_name": "Python 3 (ipykernel)",
   "language": "python",
   "name": "python3"
  },
  "language_info": {
   "codemirror_mode": {
    "name": "ipython",
    "version": 3
   },
   "file_extension": ".py",
   "mimetype": "text/x-python",
   "name": "python",
   "nbconvert_exporter": "python",
   "pygments_lexer": "ipython3",
   "version": "3.9.7"
  },
  "latex_envs": {
   "LaTeX_envs_menu_present": true,
   "autoclose": false,
   "autocomplete": true,
   "bibliofile": "biblio.bib",
   "cite_by": "apalike",
   "current_citInitial": 1,
   "eqLabelWithNumbers": true,
   "eqNumInitial": 1,
   "hotkeys": {
    "equation": "Ctrl-E",
    "itemize": "Ctrl-I"
   },
   "labels_anchors": false,
   "latex_user_defs": false,
   "report_style_numbering": false,
   "user_envs_cfg": false
  }
 },
 "nbformat": 4,
 "nbformat_minor": 5
}
