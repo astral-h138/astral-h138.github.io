{
 "cells": [
  {
   "cell_type": "code",
   "execution_count": 1,
   "id": "8b34f1f5",
   "metadata": {},
   "outputs": [],
   "source": [
    "import requests\n",
    "from bs4 import BeautifulSoup\n",
    "\n",
    "URL = \"https://www.gutenberg.org/files/49965/49965-h/49965-h.htm\"\n",
    "page = requests.get(URL)\n",
    "\n",
    "soup = BeautifulSoup(page.content, \"html.parser\")\n"
   ]
  },
  {
   "cell_type": "code",
   "execution_count": 2,
   "id": "ca2761e4",
   "metadata": {},
   "outputs": [],
   "source": [
    "tds = soup.find_all('td')"
   ]
  },
  {
   "cell_type": "code",
   "execution_count": 3,
   "id": "1bac2458",
   "metadata": {},
   "outputs": [],
   "source": [
    "chars = ['\\n'.join([p.text[1:].strip().replace('\\n','') for p in\n",
    "                    td.findChildren('p', recursive=False)])\n",
    "         for td in tds[4:-32:4]]"
   ]
  },
  {
   "cell_type": "code",
   "execution_count": 4,
   "id": "7a256f33",
   "metadata": {},
   "outputs": [],
   "source": [
    "allc = \"aaa\".join(chars)\n",
    "for c in '\\r\\xa0()[]_\\n ':\n",
    "    allc = allc.replace(c, '')\n",
    "allc = allc.replace('aaa','\\n').replace('•', '')"
   ]
  },
  {
   "cell_type": "code",
   "execution_count": 5,
   "id": "bfc72731",
   "metadata": {},
   "outputs": [],
   "source": [
    "#open('ddj.txt', 'w').write(allc)"
   ]
  },
  {
   "cell_type": "code",
   "execution_count": 6,
   "id": "15b5dc5b",
   "metadata": {},
   "outputs": [],
   "source": [
    "import string\n",
    "\n",
    "with open('orig-tao.txt') as f:\n",
    "    tao = f.read()\n",
    "    \n",
    "for c in string.ascii_letters + string.punctuation + ' –‟':\n",
    "    tao = tao.replace(c, '')\n",
    "\n",
    "tao = tao.replace('\\n\\n', 'aaa').replace('\\n', '').replace('aaa', '\\n')\n",
    "#tao"
   ]
  },
  {
   "cell_type": "code",
   "execution_count": 7,
   "id": "d58fc217",
   "metadata": {},
   "outputs": [],
   "source": [
    "tao = ''.join([c+' ' for c in tao])\n",
    "#tao = tao.replace('\\n ', '\\n')"
   ]
  },
  {
   "cell_type": "code",
   "execution_count": 43,
   "id": "0b9361be",
   "metadata": {},
   "outputs": [
    {
     "name": "stdout",
     "output_type": "stream",
     "text": [
      "Collecting googletrans==4.0.0-rc1\n",
      "  Downloading googletrans-4.0.0rc1.tar.gz (20 kB)\n",
      "  Preparing metadata (setup.py) ... \u001b[?25ldone\n",
      "\u001b[?25hRequirement already satisfied: httpx==0.13.3 in /home/astral/.pyenv/versions/3.9.7/lib/python3.9/site-packages (from googletrans==4.0.0-rc1) (0.13.3)\n",
      "Requirement already satisfied: certifi in /home/astral/.pyenv/versions/3.9.7/lib/python3.9/site-packages (from httpx==0.13.3->googletrans==4.0.0-rc1) (2021.5.30)\n",
      "Requirement already satisfied: chardet==3.* in /home/astral/.pyenv/versions/3.9.7/lib/python3.9/site-packages (from httpx==0.13.3->googletrans==4.0.0-rc1) (3.0.4)\n",
      "Requirement already satisfied: hstspreload in /home/astral/.pyenv/versions/3.9.7/lib/python3.9/site-packages (from httpx==0.13.3->googletrans==4.0.0-rc1) (2021.12.1)\n",
      "Requirement already satisfied: idna==2.* in /home/astral/.pyenv/versions/3.9.7/lib/python3.9/site-packages (from httpx==0.13.3->googletrans==4.0.0-rc1) (2.10)\n",
      "Requirement already satisfied: sniffio in /home/astral/.pyenv/versions/3.9.7/lib/python3.9/site-packages (from httpx==0.13.3->googletrans==4.0.0-rc1) (1.2.0)\n",
      "Requirement already satisfied: rfc3986<2,>=1.3 in /home/astral/.pyenv/versions/3.9.7/lib/python3.9/site-packages (from httpx==0.13.3->googletrans==4.0.0-rc1) (1.5.0)\n",
      "Requirement already satisfied: httpcore==0.9.* in /home/astral/.pyenv/versions/3.9.7/lib/python3.9/site-packages (from httpx==0.13.3->googletrans==4.0.0-rc1) (0.9.1)\n",
      "Requirement already satisfied: h2==3.* in /home/astral/.pyenv/versions/3.9.7/lib/python3.9/site-packages (from httpcore==0.9.*->httpx==0.13.3->googletrans==4.0.0-rc1) (3.2.0)\n",
      "Requirement already satisfied: h11<0.10,>=0.8 in /home/astral/.pyenv/versions/3.9.7/lib/python3.9/site-packages (from httpcore==0.9.*->httpx==0.13.3->googletrans==4.0.0-rc1) (0.9.0)\n",
      "Requirement already satisfied: hyperframe<6,>=5.2.0 in /home/astral/.pyenv/versions/3.9.7/lib/python3.9/site-packages (from h2==3.*->httpcore==0.9.*->httpx==0.13.3->googletrans==4.0.0-rc1) (5.2.0)\n",
      "Requirement already satisfied: hpack<4,>=3.0 in /home/astral/.pyenv/versions/3.9.7/lib/python3.9/site-packages (from h2==3.*->httpcore==0.9.*->httpx==0.13.3->googletrans==4.0.0-rc1) (3.0.0)\n",
      "Building wheels for collected packages: googletrans\n",
      "  Building wheel for googletrans (setup.py) ... \u001b[?25ldone\n",
      "\u001b[?25h  Created wheel for googletrans: filename=googletrans-4.0.0rc1-py3-none-any.whl size=17415 sha256=e3e7a1b3029938d9d6a1f9f55b17d2f2ccc6d19dd3ef24e416587872dc369a24\n",
      "  Stored in directory: /home/astral/.cache/pip/wheels/60/b3/27/d8aff3e2d5c2d0d97a117cdf0d5f13cd121e2c2b5fb49b55a0\n",
      "Successfully built googletrans\n",
      "Installing collected packages: googletrans\n",
      "  Attempting uninstall: googletrans\n",
      "    Found existing installation: googletrans 3.0.0\n",
      "    Uninstalling googletrans-3.0.0:\n",
      "      Successfully uninstalled googletrans-3.0.0\n",
      "Successfully installed googletrans-4.0.0rc1\n",
      "Note: you may need to restart the kernel to use updated packages.\n"
     ]
    }
   ],
   "source": [
    "%pip install googletrans==4.0.0-rc1"
   ]
  },
  {
   "cell_type": "markdown",
   "id": "52604164",
   "metadata": {},
   "source": [
    "## Markov chain?"
   ]
  },
  {
   "cell_type": "code",
   "execution_count": 33,
   "id": "7b261699",
   "metadata": {},
   "outputs": [],
   "source": [
    "from googletrans import Translator "
   ]
  },
  {
   "cell_type": "code",
   "execution_count": 40,
   "id": "3aaf5df7",
   "metadata": {},
   "outputs": [
    {
     "name": "stdout",
     "output_type": "stream",
     "text": [
      "彼心之心也哉沌兮人昭昭獨若昏人察察民缺缺兮福之所教我亦教之梁者不行見者不行見者不知誰之子帝之先 \n",
      "彼心之心也哉沌兮人昭昭獨若昏人察察民缺缺兮福之所教我亦教之梁者不行見者不行見者不知誰之子帝之先\n",
      "晢晢乎如入於淵綽乎如將不得其所者久而不移 \n",
      "晢晢乎如入於淵綽乎如將不得其所者久而不移\n",
      "得一以寧得一以為義為之而不成 \n",
      "得一以寧得一以為義為之而不成\n",
      "常無欲而民自正無事而民自化好靜而民不能固其往不復其來不舍 \n",
      "常無欲而民自正無事而民自化好靜而民不能固其往不復其來不舍\n",
      "大國故或下以取天下貴 \n",
      "大國故或下以取天下貴\n"
     ]
    }
   ],
   "source": [
    "import markovify\n",
    "from model_gen import MarkovifyInterface\n",
    "\n",
    "text = ''.join([c+' ' for c in allc])\n",
    "combo = MarkovifyInterface()\n",
    "combo.add_text(text, split_by=\"\\n\")\n",
    "combo.add_text(tao, split_by=\"\\n\")\n",
    "\n",
    "ddj = MarkovifyInterface()\n",
    "ddj.add_text(text, split_by=\"\\n\")\n",
    "\n",
    "iwt = MarkovifyInterface()\n",
    "iwt.add_text(tao, split_by=\"\\n\")\n",
    "\n",
    "models = {\n",
    "    'Combination': combo, \n",
    "    #'Dao De Jing': ddj, \n",
    "    #'Inward Traning': iwt\n",
    "}\n",
    "\n",
    "translator = Translator() \n",
    "lines = []\n",
    "# Print five randomly-generated sentences\n",
    "for name, model in models.items():\n",
    "    for _ in range(5):\n",
    "        line = model.make_sentence().replace(\" \", \"\")\n",
    "        lines.append(line)\n",
    "\n",
    "translations = translator.translate(lines, src='zh-tw', dest='en')\n",
    "for t in translations:\n",
    "    print(t.origin, '\\n' + t.text)"
   ]
  },
  {
   "cell_type": "code",
   "execution_count": 42,
   "id": "c53d7e8c",
   "metadata": {},
   "outputs": [
    {
     "ename": "AttributeError",
     "evalue": "'Detected' object has no attribute 'text'",
     "output_type": "error",
     "traceback": [
      "\u001b[0;31m---------------------------------------------------------------------------\u001b[0m",
      "\u001b[0;31mAttributeError\u001b[0m                            Traceback (most recent call last)",
      "\u001b[0;32m/tmp/ipykernel_500/3005395983.py\u001b[0m in \u001b[0;36m<module>\u001b[0;34m\u001b[0m\n\u001b[0;32m----> 1\u001b[0;31m \u001b[0mtranslator\u001b[0m\u001b[0;34m.\u001b[0m\u001b[0mdetect\u001b[0m\u001b[0;34m(\u001b[0m\u001b[0;34m'大國故或下以取天下貴'\u001b[0m\u001b[0;34m)\u001b[0m\u001b[0;34m.\u001b[0m\u001b[0mtext\u001b[0m\u001b[0;34m\u001b[0m\u001b[0;34m\u001b[0m\u001b[0m\n\u001b[0m",
      "\u001b[0;31mAttributeError\u001b[0m: 'Detected' object has no attribute 'text'"
     ]
    }
   ],
   "source": [
    "translator.detect('大國故或下以取天下貴')"
   ]
  },
  {
   "cell_type": "code",
   "execution_count": null,
   "id": "12651558",
   "metadata": {},
   "outputs": [],
   "source": [
    "model.chain.model.keys()"
   ]
  },
  {
   "cell_type": "code",
   "execution_count": null,
   "id": "aa9b543e",
   "metadata": {},
   "outputs": [],
   "source": [
    "for i in range(5):\n",
    "    print(text_model.make_sentence())"
   ]
  },
  {
   "cell_type": "code",
   "execution_count": null,
   "id": "ae0a0c51",
   "metadata": {},
   "outputs": [],
   "source": [
    "t = '''道佐人主者以為禮為之有不信者吾善之善者吾善之為美斯惡已知善之善者吾善之善為士者不知尚矣知知病矣夫唯無以為義為之而損之足常足矣\n",
    "道氾兮可左右物恃之以生為者賢於貴生\n",
    "生入死之徒十有三寶而保之曰道為而無以生不辭成遂而不失德是以能為百谷王以聖人上而民自化而欲作將鎮之以萬物而不厭其所居厭其所居厭其所者久而不可識夫唯病病以不去閱眾甫之然哉此\n",
    "道氾兮可左右物恃之以為禮為之下謂不爭之德謂用人者為之下謂不道道早已\n",
    "之善者吾亦善之善者吾得執而殺之敢有司殺者殺謂代大匠斲者不辯者不辯者不傷人兩者亦樂得之不善棄之有知古始謂道紀\n",
    "下有道者亦稽式謂玄牝牝之門謂天下莫能臣王若能守之物將自定\n",
    "人者不祥之器或惡之故有德德深矣遠矣物反矣乃至大順\n",
    "德之尊之貴夫莫之能成大\n",
    "海所以不我知我者希我者貴矣以聖人而不失德是以有國國之賊以知無欲名於小物歸焉\n",
    "與身孰親與善人之生也柔弱死也枯槁故堅強者之能行有宗有君夫唯弗居夫唯嗇謂早服服謂之重積德無不為天下式天下谷德乃足歸於無為則無不為大故能為百谷王者其不自見愛不自見愛不自生故能成其私\n",
    "聖棄智利百倍仁棄義復孝慈家昏亂忠臣\n",
    "德不失德是以偏將軍居右以喪禮處之\n",
    "言自然不足既\n",
    "道佐人主者以為禮為之名曰大曰逝曰遠曰反道大大亦大中有物兮冥兮其若濁能濁以靜下將自定\n",
    "勇於敢殺於不知人不病其病病以不殆道之用戶牖以知治國奇用兵無事而民不爭之德畜之而有以我獨頑似鄙獨異於人故有道者亦樂得之貨民不重前而民不爭故天下矣'''"
   ]
  },
  {
   "cell_type": "code",
   "execution_count": null,
   "id": "9d8afc00",
   "metadata": {},
   "outputs": [],
   "source": [
    "print(t[:3000].replace('\\n', '\\n\\n'))"
   ]
  },
  {
   "cell_type": "code",
   "execution_count": null,
   "id": "d5839c61",
   "metadata": {},
   "outputs": [],
   "source": []
  },
  {
   "cell_type": "code",
   "execution_count": null,
   "id": "495bbe8a",
   "metadata": {},
   "outputs": [],
   "source": [
    "\n",
    "\n",
    "# with open('tao-chars.txt', 'w') as f:\n",
    "#     f.write(tao)"
   ]
  },
  {
   "cell_type": "code",
   "execution_count": null,
   "id": "8b9334d1",
   "metadata": {},
   "outputs": [],
   "source": [
    "tao"
   ]
  },
  {
   "cell_type": "code",
   "execution_count": null,
   "id": "1f482b8d",
   "metadata": {},
   "outputs": [],
   "source": []
  }
 ],
 "metadata": {
  "kernelspec": {
   "display_name": "Python 3 (ipykernel)",
   "language": "python",
   "name": "python3"
  },
  "language_info": {
   "codemirror_mode": {
    "name": "ipython",
    "version": 3
   },
   "file_extension": ".py",
   "mimetype": "text/x-python",
   "name": "python",
   "nbconvert_exporter": "python",
   "pygments_lexer": "ipython3",
   "version": "3.9.7"
  },
  "latex_envs": {
   "LaTeX_envs_menu_present": true,
   "autoclose": false,
   "autocomplete": true,
   "bibliofile": "biblio.bib",
   "cite_by": "apalike",
   "current_citInitial": 1,
   "eqLabelWithNumbers": true,
   "eqNumInitial": 1,
   "hotkeys": {
    "equation": "Ctrl-E",
    "itemize": "Ctrl-I"
   },
   "labels_anchors": false,
   "latex_user_defs": false,
   "report_style_numbering": false,
   "user_envs_cfg": false
  }
 },
 "nbformat": 4,
 "nbformat_minor": 5
}
